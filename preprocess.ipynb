{
 "cells": [
  {
   "cell_type": "code",
   "execution_count": 1,
   "metadata": {},
   "outputs": [
    {
     "name": "stderr",
     "output_type": "stream",
     "text": [
      "/tmp/ipykernel_2406/920666016.py:5: DeprecationWarning: \n",
      "Pyarrow will become a required dependency of pandas in the next major release of pandas (pandas 3.0),\n",
      "(to allow more performant data types, such as the Arrow string type, and better interoperability with other libraries)\n",
      "but was not found to be installed on your system.\n",
      "If this would cause problems for you,\n",
      "please provide us feedback at https://github.com/pandas-dev/pandas/issues/54466\n",
      "        \n",
      "  import pandas as pd\n"
     ]
    }
   ],
   "source": [
    "import re\n",
    "import os\n",
    "\n",
    "import numpy as np\n",
    "import pandas as pd"
   ]
  },
  {
   "cell_type": "code",
   "execution_count": 2,
   "metadata": {},
   "outputs": [],
   "source": [
    "paths = os.listdir(\"./data/\")\n",
    "os.chdir(\"./data\")\n",
    "names = [path.split(\".txt\")[0] for path in paths]\n",
    "preprocess_texts = {}\n",
    "\n",
    "for index, path in enumerate(paths):\n",
    "    with open(path, \"r\") as f:\n",
    "        preprocess_texts[names[index]] = f.read()"
   ]
  },
  {
   "cell_type": "code",
   "execution_count": 3,
   "metadata": {},
   "outputs": [],
   "source": [
    "def remove_timestamps(s):\n",
    "    return [tuple([i[18:].split(\": \")[0], \": \".join(\n",
    "        i[18:].split(\": \")[1:]\n",
    "    )]) for i in s.split(\"\\n\")][1:-1]"
   ]
  },
  {
   "cell_type": "code",
   "execution_count": 4,
   "metadata": {},
   "outputs": [],
   "source": [
    "def remove_urls(s):\n",
    "    url_regex = '(?!mailto:)(?:(?:http|https|ftp)://)(?:\\\\S+(?::\\\\S*)?@)?(?:(?:(?:[1-9]\\\\d?|1\\\\d\\\\d|2[01]\\\\d|22[0-3])(?:\\\\.(?:1?\\\\d{1,2}|2[0-4]\\\\d|25[0-5])){2}(?:\\\\.(?:[0-9]\\\\d?|1\\\\d\\\\d|2[0-4]\\\\d|25[0-4]))|(?:(?:[a-z\\\\u00a1-\\\\uffff0-9]+-?)*[a-z\\\\u00a1-\\\\uffff0-9]+)(?:\\\\.(?:[a-z\\\\u00a1-\\\\uffff0-9]+-?)*[a-z\\\\u00a1-\\\\uffff0-9]+)*(?:\\\\.(?:[a-z\\\\u00a1-\\\\uffff]{2,})))|localhost)(?::\\\\d{2,5})?(?:(/|\\\\?|#)[^\\\\s]*)?'\n",
    "    temp_s = []\n",
    "\n",
    "    for index, val in enumerate(s):\n",
    "        _, msg = val\n",
    "\n",
    "        if not re.search(url_regex, msg):\n",
    "            temp_s.append(s[index])\n",
    "\n",
    "    return temp_s"
   ]
  },
  {
   "cell_type": "code",
   "execution_count": 5,
   "metadata": {},
   "outputs": [],
   "source": [
    "def remove_media_omitted(s):\n",
    "    media_regex = \"Media\\somitted\"\n",
    "    temp_s = []\n",
    "\n",
    "    for index, val in enumerate(s):\n",
    "        _, msg = val\n",
    "\n",
    "        if not re.search(media_regex, msg):\n",
    "            temp_s.append(s[index])\n",
    "\n",
    "    return temp_s"
   ]
  },
  {
   "cell_type": "code",
   "execution_count": 6,
   "metadata": {},
   "outputs": [],
   "source": [
    "def remove_sticker_omitted(s):\n",
    "    sticker_regex = \"sticker\\somitted\"\n",
    "    temp_s = []\n",
    "\n",
    "    for index, val in enumerate(s):\n",
    "        _, msg = val\n",
    "\n",
    "        if not re.search(sticker_regex, msg):\n",
    "            temp_s.append(s[index])\n",
    "\n",
    "    return temp_s"
   ]
  },
  {
   "cell_type": "code",
   "execution_count": 7,
   "metadata": {},
   "outputs": [],
   "source": [
    "def remove_audio_omitted(s):\n",
    "    audio_regex = \"audio\\somitted\"\n",
    "    temp_s = []\n",
    "\n",
    "    for index, val in enumerate(s):\n",
    "        _, msg = val\n",
    "\n",
    "        if not re.search(audio_regex, msg):\n",
    "            temp_s.append(s[index])\n",
    "\n",
    "    return temp_s"
   ]
  },
  {
   "cell_type": "code",
   "execution_count": 8,
   "metadata": {},
   "outputs": [],
   "source": [
    "def deEmojify(text):\n",
    "    regrex_pattern = re.compile(pattern = \"[\"\n",
    "        u\"\\U0001F600-\\U0001F64F\"  # emoticons\n",
    "        u\"\\U0001F300-\\U0001F5FF\"  # symbols & pictographs\n",
    "        u\"\\U0001F680-\\U0001F6FF\"  # transport & map symbols\n",
    "        u\"\\U0001F1E0-\\U0001F1FF\"  # flags (iOS)\n",
    "                           \"]+\", flags = re.UNICODE)\n",
    "    return regrex_pattern.sub(r'',text)\n",
    "\n",
    "def remove_emojis(s):\n",
    "    temp_s = []\n",
    "\n",
    "    for val in s:\n",
    "        name, text = val\n",
    "\n",
    "        temp_s.append((name, deEmojify(text)))\n",
    "    \n",
    "    return temp_s"
   ]
  },
  {
   "cell_type": "code",
   "execution_count": 14,
   "metadata": {},
   "outputs": [],
   "source": [
    "master_df = pd.DataFrame()\n",
    "master_df.to_csv(\"./master.csv\")\n",
    "\n",
    "for name, text in preprocess_texts.items():\n",
    "    preprocessed_text = remove_emojis(remove_audio_omitted(remove_sticker_omitted(remove_media_omitted(remove_urls(remove_timestamps(text))))))\n",
    "    pd.DataFrame(preprocessed_text, columns=['name', 'line']).to_csv(\"./master.csv\", mode=\"a\", index=False, header=False)"
   ]
  }
 ],
 "metadata": {
  "kernelspec": {
   "display_name": "venv",
   "language": "python",
   "name": "python3"
  },
  "language_info": {
   "codemirror_mode": {
    "name": "ipython",
    "version": 3
   },
   "file_extension": ".py",
   "mimetype": "text/x-python",
   "name": "python",
   "nbconvert_exporter": "python",
   "pygments_lexer": "ipython3",
   "version": "3.10.12"
  }
 },
 "nbformat": 4,
 "nbformat_minor": 2
}
